{
 "cells": [
  {
   "cell_type": "markdown",
   "id": "01eacf42",
   "metadata": {},
   "source": [
    "### Notes for Learning Python - Complete Python 3 Bootcamp\n",
    "\n",
    "Course materials can be found here:\n",
    "\n",
    "\n",
    "https://github.com/Pierian-Data/Complete-Python-3-Bootcamp\n",
    "\n",
    "\n",
    "https://github.com/jmportilla/Complete-Python-Bootcamp\n"
   ]
  },
  {
   "cell_type": "code",
   "execution_count": 3,
   "id": "02184b76",
   "metadata": {},
   "outputs": [
    {
     "name": "stdout",
     "output_type": "stream",
     "text": [
      "some more testing\n"
     ]
    }
   ],
   "source": [
    "print(\"some more testing\")"
   ]
  },
  {
   "cell_type": "code",
   "execution_count": null,
   "id": "3616e12a",
   "metadata": {},
   "outputs": [],
   "source": [
    "\n"
   ]
  }
 ],
 "metadata": {
  "kernelspec": {
   "display_name": "venv",
   "language": "python",
   "name": "python3"
  },
  "language_info": {
   "codemirror_mode": {
    "name": "ipython",
    "version": 3
   },
   "file_extension": ".py",
   "mimetype": "text/x-python",
   "name": "python",
   "nbconvert_exporter": "python",
   "pygments_lexer": "ipython3",
   "version": "3.12.3"
  }
 },
 "nbformat": 4,
 "nbformat_minor": 5
}
